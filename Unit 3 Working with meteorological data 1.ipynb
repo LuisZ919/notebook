{
 "cells": [
  {
   "cell_type": "markdown",
   "metadata": {},
   "source": [
    "# Filtering meteorological data"
   ]
  },
  {
   "cell_type": "markdown",
   "metadata": {},
   "source": [
    "We will use meteorolical data from Meteogalicia that contains the measurements of a weather station in Santiago during June 2017."
   ]
  },
  {
   "cell_type": "markdown",
   "metadata": {},
   "source": [
    "## Load data"
   ]
  },
  {
   "cell_type": "markdown",
   "metadata": {},
   "source": [
    "Load the data in `datasets/meteogalicia.txt` into an RDD:"
   ]
  },
  {
   "cell_type": "code",
   "execution_count": 2,
   "metadata": {
    "collapsed": true
   },
   "outputs": [
    {
     "data": {
      "text/plain": [
       "[u'',\n",
       " u'',\n",
       " u'ESTACI\\ufffdN AUTOM\\ufffdTICA:Santiago-EOAS',\n",
       " u'CONCELLO:Santiago de Compostela',\n",
       " u'PROVINCIA:A Coru\\ufffda']"
      ]
     },
     "execution_count": 2,
     "metadata": {},
     "output_type": "execute_result"
    }
   ],
   "source": [
    "rdd = sc.textFile('datasets/meteogalicia.txt')\n",
    "rdd.take(5)"
   ]
  },
  {
   "cell_type": "markdown",
   "metadata": {},
   "source": [
    "## Filter temperature data"
   ]
  },
  {
   "cell_type": "markdown",
   "metadata": {},
   "source": [
    "Filter data from the RDD keeping only \"Temperatura media\" lines."
   ]
  },
  {
   "cell_type": "code",
   "execution_count": 4,
   "metadata": {
    "collapsed": true
   },
   "outputs": [
    {
     "data": {
      "text/plain": [
       "[u'      1          2017-06-01 00:10:00    Temperatura media (\\ufffdC)                    13,82',\n",
       " u'      1          2017-06-01 00:20:00    Temperatura media (\\ufffdC)                    13,71',\n",
       " u'      1          2017-06-01 00:30:00    Temperatura media (\\ufffdC)                    13,61',\n",
       " u'      1          2017-06-01 00:40:00    Temperatura media (\\ufffdC)                    13,52',\n",
       " u'      1          2017-06-01 00:50:00    Temperatura media (\\ufffdC)                    13,33']"
      ]
     },
     "execution_count": 4,
     "metadata": {},
     "output_type": "execute_result"
    }
   ],
   "source": [
    "temperature_lines = rdd.filter(lambda line: \"Temperatura media\" in line)\n",
    "temperature_lines.take(5)"
   ]
  },
  {
   "cell_type": "markdown",
   "metadata": {},
   "source": [
    "## Count the number of points"
   ]
  },
  {
   "cell_type": "code",
   "execution_count": 5,
   "metadata": {
    "collapsed": true
   },
   "outputs": [
    {
     "name": "stdout",
     "output_type": "stream",
     "text": [
      "4176\n"
     ]
    }
   ],
   "source": [
    "count_of_temperature_lines = temperature_lines.count()\n",
    "print(count_of_temperature_lines)\n"
   ]
  },
  {
   "cell_type": "markdown",
   "metadata": {},
   "source": [
    "## Find the maximum temperature of the month"
   ]
  },
  {
   "cell_type": "markdown",
   "metadata": {},
   "source": [
    "Extract the column with the temperature strings:"
   ]
  },
  {
   "cell_type": "code",
   "execution_count": 15,
   "metadata": {
    "collapsed": true
   },
   "outputs": [
    {
     "name": "stdout",
     "output_type": "stream",
     "text": [
      "[13.82, 13.71, 13.61, 13.52, 13.33]\n"
     ]
    }
   ],
   "source": [
    "temperature_strings = temperature_lines.map(lambda line: line.split()[6])\n",
    "def safe_float_conversion(temp_str):\n",
    "    try:\n",
    "        return float(temp_str.replace(\",\", \".\"))\n",
    "    except ValueError:\n",
    "        return None  # Handle conversion errors\n",
    "\n",
    "temperature_floats = temperature_strings.map(safe_float_conversion)\n",
    "\n",
    "# To check the first few converted float values\n",
    "print(temperature_floats.take(5))"
   ]
  },
  {
   "cell_type": "markdown",
   "metadata": {},
   "source": [
    "The temperature_strings contain strings of the form \"21,55\", in order to use them we have to convert them to floats we have to first replace the \",\" with a \".\":"
   ]
  },
  {
   "cell_type": "code",
   "execution_count": 19,
   "metadata": {
    "collapsed": true
   },
   "outputs": [
    {
     "name": "stdout",
     "output_type": "stream",
     "text": [
      "[13.82, 13.71, 13.61, 13.52, 13.33]\n"
     ]
    }
   ],
   "source": [
    "values = temperature_floats.collect()\n",
    "print(values[:5])"
   ]
  },
  {
   "cell_type": "markdown",
   "metadata": {},
   "source": [
    "And now we can convert them to floats:"
   ]
  },
  {
   "cell_type": "code",
   "execution_count": 20,
   "metadata": {
    "collapsed": true
   },
   "outputs": [
    {
     "name": "stdout",
     "output_type": "stream",
     "text": [
      "[13.82, 13.71, 13.61, 13.52, 13.33]\n"
     ]
    }
   ],
   "source": [
    "temperatures = temperature_floats.collect()\n",
    "print(temperatures[:5])"
   ]
  },
  {
   "cell_type": "markdown",
   "metadata": {},
   "source": [
    "Finally we can calculate the maximum temperature:"
   ]
  },
  {
   "cell_type": "code",
   "execution_count": 21,
   "metadata": {
    "collapsed": true
   },
   "outputs": [
    {
     "name": "stdout",
     "output_type": "stream",
     "text": [
      "('Total Temperature:', 68479.95000000003)\n"
     ]
    }
   ],
   "source": [
    "total_temperature = temperature_floats.reduce(lambda x, y: x + y)\n",
    "print(\"Total Temperature:\", total_temperature)\n"
   ]
  },
  {
   "cell_type": "markdown",
   "metadata": {},
   "source": [
    "Sometimes it is useful to explore the API to find more direct ways to do what we want.\n",
    "\n",
    "In this case we can see that there is a **max()** built-in function in the RDD object just to do this, so we can also do:"
   ]
  },
  {
   "cell_type": "code",
   "execution_count": 22,
   "metadata": {
    "collapsed": true
   },
   "outputs": [
    {
     "name": "stdout",
     "output_type": "stream",
     "text": [
      "('Maximum Temperature:', 34.4)\n"
     ]
    }
   ],
   "source": [
    "max_temperature = temperature_floats.reduce(lambda x, y: max(x, y))\n",
    "print(\"Maximum Temperature:\", max_temperature)"
   ]
  },
  {
   "cell_type": "markdown",
   "metadata": {},
   "source": [
    "## Find the minimum temperature of the month"
   ]
  },
  {
   "cell_type": "code",
   "execution_count": 23,
   "metadata": {
    "collapsed": true
   },
   "outputs": [
    {
     "name": "stdout",
     "output_type": "stream",
     "text": [
      "('Minimum Temperature:', -9999.0)\n"
     ]
    }
   ],
   "source": [
    "min_temperature = temperature_floats.reduce(lambda x, y: min(x, y))\n",
    "print(\"Minimum Temperature:\", min_temperature)\n"
   ]
  },
  {
   "cell_type": "markdown",
   "metadata": {},
   "source": [
    "Reading the header of the dataset file we can see that -9999 is used as a code to indicate N/A values.\n",
    "\n",
    "So we have to filter out -9999 and repeat:"
   ]
  },
  {
   "cell_type": "code",
   "execution_count": 25,
   "metadata": {
    "collapsed": true
   },
   "outputs": [
    {
     "name": "stdout",
     "output_type": "stream",
     "text": [
      "('Minimum Temperature:', 9.09)\n"
     ]
    }
   ],
   "source": [
    "filtered_temperature_floats = temperature_floats.filter(lambda x: x != -9999)\n",
    "\n",
    "temperatures = filtered_temperature_floats.collect()\n",
    "\n",
    "min_temperature = min(temperatures) if temperatures else None\n",
    "\n",
    "print(\"Minimum Temperature:\", min_temperature)"
   ]
  },
  {
   "cell_type": "code",
   "execution_count": null,
   "metadata": {},
   "outputs": [],
   "source": []
  }
 ],
 "metadata": {
  "kernelspec": {
   "display_name": "Python 2",
   "language": "python",
   "name": "python2"
  },
  "language_info": {
   "codemirror_mode": {
    "name": "ipython",
    "version": 2
   },
   "file_extension": ".py",
   "mimetype": "text/x-python",
   "name": "python",
   "nbconvert_exporter": "python",
   "pygments_lexer": "ipython2",
   "version": "2.7.15"
  }
 },
 "nbformat": 4,
 "nbformat_minor": 2
}
