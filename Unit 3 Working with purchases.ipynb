{
 "cells": [
  {
   "cell_type": "markdown",
   "metadata": {},
   "source": [
    "# Traballando con ficheiro purchases.txt"
   ]
  },
  {
   "cell_type": "markdown",
   "metadata": {},
   "source": [
    "## Load data"
   ]
  },
  {
   "cell_type": "markdown",
   "metadata": {},
   "source": [
    "Load the data in `???/purchases.txt` into an RDD:"
   ]
  },
  {
   "cell_type": "code",
   "execution_count": 5,
   "metadata": {
    "collapsed": true
   },
   "outputs": [
    {
     "data": {
      "text/plain": [
       "[u\"2012-01-01\\t09:00\\tSan Jose\\tMen's Clothing\\t214.05\\tAmex\",\n",
       " u\"2012-01-01\\t09:00\\tFort Worth\\tWomen's Clothing\\t153.57\\tVisa\",\n",
       " u'2012-01-01\\t09:00\\tSan Diego\\tMusic\\t66.08\\tCash',\n",
       " u'2012-01-01\\t09:00\\tPittsburgh\\tPet Supplies\\t493.51\\tDiscover',\n",
       " u\"2012-01-01\\t09:00\\tOmaha\\tChildren's Clothing\\t235.63\\tMasterCard\"]"
      ]
     },
     "execution_count": 5,
     "metadata": {},
     "output_type": "execute_result"
    }
   ],
   "source": [
    "rdd = sc.textFile('purchases.txt')\n",
    "rdd.take(5)"
   ]
  },
  {
   "cell_type": "code",
   "execution_count": 7,
   "metadata": {},
   "outputs": [
    {
     "name": "stdout",
     "output_type": "stream",
     "text": [
      "False\n"
     ]
    }
   ],
   "source": [
    "\n"
   ]
  },
  {
   "cell_type": "code",
   "execution_count": null,
   "metadata": {},
   "outputs": [],
   "source": []
  },
  {
   "cell_type": "markdown",
   "metadata": {},
   "source": [
    "## Filter 'San Jose' data"
   ]
  },
  {
   "cell_type": "markdown",
   "metadata": {},
   "source": [
    "Filter data from the RDD keeping only \"San Jose\" lines."
   ]
  },
  {
   "cell_type": "code",
   "execution_count": 8,
   "metadata": {
    "collapsed": true
   },
   "outputs": [
    {
     "name": "stdout",
     "output_type": "stream",
     "text": [
      "[u\"2012-01-01\\t09:00\\tSan Jose\\tMen's Clothing\\t214.05\\tAmex\", u\"2012-01-01\\t09:00\\tSan Jose\\tWomen's Clothing\\t215.82\\tCash\", u'2012-01-01\\t09:09\\tSan Jose\\tToys\\t337.71\\tCash', u'2012-01-01\\t09:17\\tSan Jose\\tGarden\\t192.82\\tCash', u'2012-01-01\\t09:19\\tSan Jose\\tCameras\\t95.81\\tCash']\n"
     ]
    }
   ],
   "source": [
    "# Filter the RDD to keep only lines containing \"San Jose\"\n",
    "san_jose_lines = rdd.filter(lambda line: \"San Jose\" in line)\n",
    "\n",
    "# Optionally, collect and display the results to verify\n",
    "san_jose_results = san_jose_lines.collect()\n",
    "print(san_jose_results[:5])  # Print the first 5 lines that match\n"
   ]
  },
  {
   "cell_type": "code",
   "execution_count": null,
   "metadata": {},
   "outputs": [],
   "source": []
  },
  {
   "cell_type": "markdown",
   "metadata": {},
   "source": [
    "## Count the number of purchases in San Jose"
   ]
  },
  {
   "cell_type": "code",
   "execution_count": 9,
   "metadata": {
    "collapsed": true
   },
   "outputs": [
    {
     "name": "stdout",
     "output_type": "stream",
     "text": [
      "('Number of purchases in San Jose:', 39898)\n"
     ]
    }
   ],
   "source": [
    "# Filter the RDD to keep only lines containing \"San Jose\"\n",
    "san_jose_lines = rdd.filter(lambda line: \"San Jose\" in line)\n",
    "\n",
    "# Count the number of purchases in San Jose\n",
    "num_purchases_san_jose = san_jose_lines.count()\n",
    "\n",
    "# Print the result\n",
    "print(\"Number of purchases in San Jose:\", num_purchases_san_jose)\n"
   ]
  },
  {
   "cell_type": "markdown",
   "metadata": {},
   "source": [
    "## Find the maximum cost"
   ]
  },
  {
   "cell_type": "markdown",
   "metadata": {},
   "source": [
    "Extract the column with the cost strings:"
   ]
  },
  {
   "cell_type": "code",
   "execution_count": 10,
   "metadata": {
    "collapsed": true
   },
   "outputs": [
    {
     "name": "stdout",
     "output_type": "stream",
     "text": [
      "[u'214.05', u'215.82', u'337.71', u'192.82', u'95.81']\n"
     ]
    }
   ],
   "source": [
    "# Extract the column with the cost strings (fifth column)\n",
    "cost_strings = san_jose_lines.map(lambda line: line.split(\"\\t\")[4])\n",
    "\n",
    "# Optionally, collect and display the results to verify\n",
    "cost_results = cost_strings.collect()\n",
    "print(cost_results[:5])  # Print the first 5 cost strings\n"
   ]
  },
  {
   "cell_type": "code",
   "execution_count": null,
   "metadata": {},
   "outputs": [],
   "source": []
  },
  {
   "cell_type": "markdown",
   "metadata": {},
   "source": [
    "And now we can convert them to floats:"
   ]
  },
  {
   "cell_type": "code",
   "execution_count": 11,
   "metadata": {
    "collapsed": true
   },
   "outputs": [
    {
     "name": "stdout",
     "output_type": "stream",
     "text": [
      "[214.05, 215.82, 337.71, 192.82, 95.81]\n"
     ]
    }
   ],
   "source": [
    "# Extract the column with the cost strings (fifth column)\n",
    "cost_strings = san_jose_lines.map(lambda line: line.split(\"\\t\")[4])\n",
    "\n",
    "# Convert the cost strings to floats\n",
    "cost_floats = cost_strings.map(lambda cost: float(cost))\n",
    "\n",
    "# Optionally, collect and display the results to verify\n",
    "cost_results = cost_floats.collect()\n",
    "print(cost_results[:5])  # Print the first 5 cost floats\n"
   ]
  },
  {
   "cell_type": "code",
   "execution_count": null,
   "metadata": {},
   "outputs": [],
   "source": []
  },
  {
   "cell_type": "markdown",
   "metadata": {},
   "source": [
    "Finally we can calculate the maximum temperature:"
   ]
  },
  {
   "cell_type": "code",
   "execution_count": 12,
   "metadata": {
    "collapsed": true
   },
   "outputs": [
    {
     "name": "stdout",
     "output_type": "stream",
     "text": [
      "('Maximum cost in San Jose purchases:', 499.99)\n"
     ]
    }
   ],
   "source": [
    "# Assuming cost_floats RDD is already created by converting cost strings to floats\n",
    "\n",
    "# Calculate the maximum cost\n",
    "max_cost = cost_floats.max()\n",
    "\n",
    "# Print the result\n",
    "print(\"Maximum cost in San Jose purchases:\", max_cost)\n"
   ]
  },
  {
   "cell_type": "markdown",
   "metadata": {},
   "source": [
    "Or directly with **max** function"
   ]
  },
  {
   "cell_type": "code",
   "execution_count": 13,
   "metadata": {
    "collapsed": true
   },
   "outputs": [
    {
     "name": "stdout",
     "output_type": "stream",
     "text": [
      "('Maximum cost in San Jose purchases:', 499.99)\n"
     ]
    }
   ],
   "source": [
    "# Collect the cost floats into a list\n",
    "cost_results = cost_floats.collect()\n",
    "\n",
    "# Calculate the maximum cost using the max() function\n",
    "max_cost = max(cost_results)\n",
    "\n",
    "# Print the result\n",
    "print(\"Maximum cost in San Jose purchases:\", max_cost)\n"
   ]
  },
  {
   "cell_type": "markdown",
   "metadata": {},
   "source": [
    "## Find the minimum cost"
   ]
  },
  {
   "cell_type": "code",
   "execution_count": 15,
   "metadata": {
    "collapsed": true
   },
   "outputs": [
    {
     "name": "stdout",
     "output_type": "stream",
     "text": [
      "('Costo m\\xc3\\xadnimo en compras de San Jose (sin tener en cuenta 0.0):', 0.03)\n"
     ]
    }
   ],
   "source": [
    "# Filtrar los valores que son mayores que 0\n",
    "filtered_costs = cost_floats.filter(lambda x: x > 0)\n",
    "\n",
    "# Calcular el costo mínimo de los valores filtrados\n",
    "min_cost = filtered_costs.min()\n",
    "\n",
    "# Imprimir el resultado\n",
    "print(\"Costo mínimo en compras de San Jose (sin tener en cuenta 0.0):\", min_cost)\n",
    "\n"
   ]
  },
  {
   "cell_type": "code",
   "execution_count": null,
   "metadata": {
    "collapsed": true
   },
   "outputs": [],
   "source": []
  },
  {
   "cell_type": "code",
   "execution_count": null,
   "metadata": {},
   "outputs": [],
   "source": []
  }
 ],
 "metadata": {
  "kernelspec": {
   "display_name": "Python 2",
   "language": "python",
   "name": "python2"
  },
  "language_info": {
   "codemirror_mode": {
    "name": "ipython",
    "version": 2
   },
   "file_extension": ".py",
   "mimetype": "text/x-python",
   "name": "python",
   "nbconvert_exporter": "python",
   "pygments_lexer": "ipython2",
   "version": "2.7.15"
  }
 },
 "nbformat": 4,
 "nbformat_minor": 2
}
